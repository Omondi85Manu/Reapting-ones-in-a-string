{
 "cells": [
  {
   "cell_type": "markdown",
   "id": "632f2628",
   "metadata": {},
   "source": [
    "# Longest Repeating Ones\n",
    "## Challenge\n",
    "### You are given a signal as a string of zeros and ones, return the length of the longest \n",
    "### sequence of ones.\n",
    "\n",
    "### Example\n",
    "Input:\n",
    "\n",
    "0110111001011110000000011\n",
    "\n",
    "Expected Output:\n",
    "\n",
    "4"
   ]
  },
  {
   "cell_type": "code",
   "execution_count": 3,
   "id": "77915bb8",
   "metadata": {},
   "outputs": [],
   "source": [
    "def getLongestRepeatingOnes():\n",
    "    \n",
    "     # Take input from the user\n",
    "    num_str = input(\"Enter a string of zeros and ones: \")\n",
    "    \n",
    "    cur_count = 0\n",
    "    max_count = 0\n",
    "    num_list = [eval(i) for i in num_str]\n",
    "    \n",
    "    for i in range(0, len(num_list)):\n",
    "        if (num_list[i] == 0):\n",
    "            cur_count = 0\n",
    "        else:\n",
    "            cur_count += 1\n",
    "            max_count = max(max_count, cur_count)\n",
    "            \n",
    "    return max_count"
   ]
  },
  {
   "cell_type": "code",
   "execution_count": 4,
   "id": "17e0e555",
   "metadata": {
    "scrolled": true
   },
   "outputs": [
    {
     "name": "stdout",
     "output_type": "stream",
     "text": [
      "Enter a string of zeros and ones: 0101111111010101110000\n"
     ]
    },
    {
     "data": {
      "text/plain": [
       "7"
      ]
     },
     "execution_count": 4,
     "metadata": {},
     "output_type": "execute_result"
    }
   ],
   "source": [
    "getLongestRepeatingOnes()"
   ]
  },
  {
   "cell_type": "code",
   "execution_count": null,
   "id": "699c6e71",
   "metadata": {},
   "outputs": [],
   "source": []
  }
 ],
 "metadata": {
  "kernelspec": {
   "display_name": "Python 3 (ipykernel)",
   "language": "python",
   "name": "python3"
  },
  "language_info": {
   "codemirror_mode": {
    "name": "ipython",
    "version": 3
   },
   "file_extension": ".py",
   "mimetype": "text/x-python",
   "name": "python",
   "nbconvert_exporter": "python",
   "pygments_lexer": "ipython3",
   "version": "3.8.8"
  }
 },
 "nbformat": 4,
 "nbformat_minor": 5
}
